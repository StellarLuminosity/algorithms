{
 "cells": [
  {
   "cell_type": "markdown",
   "id": "0f7e8561",
   "metadata": {},
   "source": [
    "## AdaBoost Algorithm\n",
    "What is it? The term ‘Boosting’ refers to a family of algorithms which converts weak learner to strong learners.\n",
    "How it works:\n",
    "- trains multiple weak models sequentially, with each *subsequent model* focusing on *correcting the errors made by the previous models*\n",
    "- After each model is trained, the **algorithm adjusts the weights of the training examples**. **Incorrectly predicted examples are given higher weights** (they are \"focused on\"), so the next model is forced to pay more attention to them.\n",
    "- The final prediction is made by combining the predictions of all models, often with weighted averaging"
   ]
  },
  {
   "cell_type": "code",
   "execution_count": 1,
   "id": "df8ad0b8",
   "metadata": {},
   "outputs": [],
   "source": [
    "import numpy as np\n",
    "from sklearn.tree import DecisionTreeClassifier\n",
    "from sklearn.datasets import load_iris\n",
    "from sklearn.datasets import make_classification\n",
    "from sklearn.model_selection import train_test_split\n",
    "from sklearn.metrics import accuracy_score, confusion_matrix, precision_score, recall_score, f1_score, roc_auc_score"
   ]
  },
  {
   "cell_type": "code",
   "execution_count": 2,
   "id": "509dd216",
   "metadata": {},
   "outputs": [],
   "source": [
    "class AdaBoost:\n",
    "    def __init__(self, n_estimators=50):\n",
    "        self.n_estimators = n_estimators # number of weak learners \n",
    "        self.alphas = []                 # stores the weights of each model, relative to its performance\n",
    "        self.models = []                 # stores the weak classifiers in AdaBoost\n",
    "    \n",
    "    # training\n",
    "    def fit(self, X, y):\n",
    "        n_samples, n_features = X.shape    # Retrieves the number of samples and features from the dataset\n",
    "        w = np.ones(n_samples) / n_samples # Initializes sample weights uniformly\n",
    "        \n",
    "        for _ in range(self.n_estimators):\n",
    "            model = DecisionTreeClassifier(max_depth=1)\n",
    "            model.fit(X, y, sample_weight=w)\n",
    "            predictions = model.predict(X)\n",
    "            err = np.sum(w * (predictions != y)) / np.sum(w) # computes the weighted error to penalize misclassified samples more\n",
    "            alpha = 0.5 * np.log((1 - err) / (err + 1e-10))  # calculates the model weight based on its error; models with lower error receive higher weight (alpha)\n",
    "            self.alphas.append(alpha)                        # appends the model’s weight to the list\n",
    "            self.models.append(model)                        # appends the trained weak classifier to the list\n",
    "            w = w * np.exp(-alpha * y * predictions)         # updates the sample weights\n",
    "            w = w / np.sum(w)\n",
    "    \n",
    "    # making predictions    \n",
    "    def predict(self, X):\n",
    "        strong_preds = np.zeros(X.shape[0])                  # stores the aggregated predictions from all weak classifiers\n",
    "        for model, alpha in zip(self.models, self.alphas):\n",
    "            strong_preds += alpha * model.predict(X)\n",
    "        return np.sign(strong_preds).astype(int)\n",
    "    \n",
    "    "
   ]
  },
  {
   "cell_type": "code",
   "execution_count": null,
   "id": "f1066f55",
   "metadata": {},
   "outputs": [],
   "source": [
    "# sample dataset\n",
    "X, y = make_classification(n_samples=1000, n_features=20, n_classes=2, random_state=42)\n",
    "X_train, X_test, y_train, y_test = train_test_split(X, y, test_size=0.3, random_state=42)"
   ]
  },
  {
   "cell_type": "code",
   "execution_count": null,
   "id": "3426f7ff",
   "metadata": {},
   "outputs": [],
   "source": [
    "adaboost = AdaBoost(n_estimators=50)\n",
    "adaboost.fit(X_train, y_train)"
   ]
  },
  {
   "cell_type": "code",
   "execution_count": 18,
   "id": "b97d09e0",
   "metadata": {},
   "outputs": [
    {
     "name": "stdout",
     "output_type": "stream",
     "text": [
      "Accuracy: 84.0%\n",
      "Precision: 0.8364779874213837\n",
      "Recall: 0.8580645161290322\n",
      "F1 Score: 0.8471337579617835\n",
      "ROC-AUC: 0.839377085650723\n"
     ]
    }
   ],
   "source": [
    "predictions = adaboost.predict(X_test)\n",
    "\n",
    "accuracy = accuracy_score(y_test, predictions)\n",
    "precision = precision_score(y_test, predictions)\n",
    "recall = recall_score(y_test, predictions)\n",
    "f1 = f1_score(y_test, predictions)\n",
    "try:\n",
    "    roc_auc = roc_auc_score(y_test, predictions)\n",
    "except ValueError:\n",
    "    roc_auc = 'Undefined (requires probability scores)'\n",
    "\n",
    "# Print results\n",
    "print(f\"Accuracy: {accuracy * 100}%\")\n",
    "print(f\"Precision: {precision}\")\n",
    "print(f\"Recall: {recall}\")\n",
    "print(f\"F1 Score: {f1}\")\n",
    "print(f\"ROC-AUC: {roc_auc}\")"
   ]
  }
 ],
 "metadata": {
  "kernelspec": {
   "display_name": ".venv",
   "language": "python",
   "name": "python3"
  },
  "language_info": {
   "codemirror_mode": {
    "name": "ipython",
    "version": 3
   },
   "file_extension": ".py",
   "mimetype": "text/x-python",
   "name": "python",
   "nbconvert_exporter": "python",
   "pygments_lexer": "ipython3",
   "version": "3.12.4"
  }
 },
 "nbformat": 4,
 "nbformat_minor": 5
}
